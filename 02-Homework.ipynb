{
 "cells": [
  {
   "cell_type": "code",
   "execution_count": 6,
   "metadata": {},
   "outputs": [],
   "source": [
    "import numpy as np\n",
    "import pandas as pd\n",
    "from pathlib import Path\n",
    "from matplotlib import pyplot as plt\n",
    "from sklearn.model_selection import train_test_split\n",
    "from sklearn.preprocessing import StandardScaler, MinMaxScaler, LabelEncoder\n",
    "from sklearn.ensemble import RandomForestClassifier\n",
    "from sklearn.preprocessing import StandardScaler\n",
    "from sklearn.feature_selection import SelectFromModel"
   ]
  },
  {
   "cell_type": "code",
   "execution_count": 35,
   "metadata": {},
   "outputs": [],
   "source": [
    "df_2019_raw = pd.read_csv(Path('Resources/2019loans.csv'))\n",
    "df_2020_raw = pd.read_csv(Path('Resources/2020Q1loans.csv'))"
   ]
  },
  {
   "cell_type": "code",
   "execution_count": 36,
   "metadata": {},
   "outputs": [],
   "source": [
    "df_2019 = df_2019_raw.drop(['index', 'Unnamed: 0'], axis = 1)\n",
    "df_2020 = df_2019_raw.drop(['index', 'Unnamed: 0'], axis = 1)"
   ]
  },
  {
   "cell_type": "code",
   "execution_count": 40,
   "metadata": {},
   "outputs": [
    {
     "name": "stdout",
     "output_type": "stream",
     "text": [
      "home_ownership 4 \n",
      "(df_2019[col].value_counts())\n",
      "\n",
      "verification_status 3 \n",
      "(df_2019[col].value_counts())\n",
      "\n",
      "loan_status 2 \n",
      "(df_2019[col].value_counts())\n",
      "\n",
      "pymnt_plan 1 \n",
      "(df_2019[col].value_counts())\n",
      "\n",
      "initial_list_status 2 \n",
      "(df_2019[col].value_counts())\n",
      "\n",
      "application_type 2 \n",
      "(df_2019[col].value_counts())\n",
      "\n",
      "hardship_flag 2 \n",
      "(df_2019[col].value_counts())\n",
      "\n",
      "debt_settlement_flag 2 \n",
      "(df_2019[col].value_counts())\n",
      "\n"
     ]
    }
   ],
   "source": [
    "for index, col in enumerate(df_2019.columns):\n",
    "    if df_2019.dtypes[index] == 'object':\n",
    "        print(col, df_2019[col].nunique(), f'\\n(df_2019[col].value_counts())\\n')"
   ]
  },
  {
   "cell_type": "code",
   "execution_count": 41,
   "metadata": {},
   "outputs": [
    {
     "data": {
      "text/plain": [
       "pandas.core.indexes.base.Index"
      ]
     },
     "execution_count": 41,
     "metadata": {},
     "output_type": "execute_result"
    }
   ],
   "source": [
    "type(df_2019.columns)"
   ]
  },
  {
   "cell_type": "code",
   "execution_count": 43,
   "metadata": {},
   "outputs": [
    {
     "data": {
      "text/plain": [
       "((12180, 83), (12180,), (12180, 83), (12180,))"
      ]
     },
     "execution_count": 43,
     "metadata": {},
     "output_type": "execute_result"
    }
   ],
   "source": [
    "x_2019_raw = df_2019.drop('loan_status', axis = 1)\n",
    "y_2019_raw = df_2019['loan_status']\n",
    "x_2020_raw = df_2019.drop('loan_status', axis = 1)\n",
    "y_2020_raw = df_2019['loan_status']\n",
    "x_2019_raw.shape, y_2019_raw.shape, x_2020_raw.shape, y_2020_raw.shape"
   ]
  },
  {
   "cell_type": "code",
   "execution_count": 45,
   "metadata": {},
   "outputs": [],
   "source": [
    "x_2019 = pd.get_dummies(x_2019_raw, drop_first = True)\n",
    "y_2019 = y_2019_raw.replace({'low_risk' :0, 'high_risk' :1})"
   ]
  },
  {
   "cell_type": "code",
   "execution_count": 46,
   "metadata": {},
   "outputs": [],
   "source": [
    "x_2020 = pd.get_dummies(x_2020_raw, drop_first = True)\n",
    "y_2020 = y_2020_raw.replace({'low_risk' :0, 'high_risk' :1})"
   ]
  },
  {
   "cell_type": "code",
   "execution_count": 47,
   "metadata": {},
   "outputs": [
    {
     "data": {
      "text/plain": [
       "((12180, 85), (12180, 85))"
      ]
     },
     "execution_count": 47,
     "metadata": {},
     "output_type": "execute_result"
    }
   ],
   "source": [
    "x_2019.shape, x_2020.shape "
   ]
  },
  {
   "cell_type": "code",
   "execution_count": 50,
   "metadata": {},
   "outputs": [],
   "source": [
    "missing_cols = []\n",
    "for col in x_2019.columns:\n",
    "    if col not in x_2020.columns:\n",
    "        x_2020[col] = 0\n",
    "        missing_cols.append(col)"
   ]
  },
  {
   "cell_type": "code",
   "execution_count": 55,
   "metadata": {},
   "outputs": [
    {
     "name": "stdout",
     "output_type": "stream",
     "text": [
      "Training Data Score: 0.649671592775041\n",
      "Testing Data Score: 0.649671592775041\n"
     ]
    },
    {
     "name": "stderr",
     "output_type": "stream",
     "text": [
      "C:\\Users\\miss_\\Anaconda3\\lib\\site-packages\\sklearn\\linear_model\\_logistic.py:763: ConvergenceWarning: lbfgs failed to converge (status=1):\n",
      "STOP: TOTAL NO. of ITERATIONS REACHED LIMIT.\n",
      "\n",
      "Increase the number of iterations (max_iter) or scale the data as shown in:\n",
      "    https://scikit-learn.org/stable/modules/preprocessing.html\n",
      "Please also refer to the documentation for alternative solver options:\n",
      "    https://scikit-learn.org/stable/modules/linear_model.html#logistic-regression\n",
      "  n_iter_i = _check_optimize_result(\n"
     ]
    }
   ],
   "source": [
    "from sklearn.linear_model import LogisticRegression\n",
    "lr = LogisticRegression(solver = 'lbfgs', random_state = 1)\n",
    "lr.fit(x_2019, y_2019)\n",
    "print(f'Training Data Score: {lr.score(x_2019, y_2019)}')\n",
    "print(f'Testing Data Score: {lr.score(x_2020, y_2020)}')"
   ]
  },
  {
   "cell_type": "code",
   "execution_count": 56,
   "metadata": {},
   "outputs": [
    {
     "name": "stdout",
     "output_type": "stream",
     "text": [
      "Training Data Score: 1.0\n",
      "Testing Data Score: 1.0\n"
     ]
    }
   ],
   "source": [
    "from sklearn.ensemble import RandomForestClassifier\n",
    "rf = RandomForestClassifier(random_state = 1)\n",
    "rf.fit(x_2019, y_2019)\n",
    "print(f'Training Data Score: {rf.score(x_2019, y_2019)}')\n",
    "print(f'Testing Data Score: {rf.score(x_2020, y_2020)}')"
   ]
  },
  {
   "cell_type": "code",
   "execution_count": 57,
   "metadata": {},
   "outputs": [],
   "source": [
    "from sklearn.preprocessing import StandardScaler\n",
    "scaler = StandardScaler().fit(x_2019)\n",
    "x_2019_scaled = scaler.transform(x_2019)\n",
    "x_2020_scaled = scaler.transform(x_2020)"
   ]
  },
  {
   "cell_type": "code",
   "execution_count": 58,
   "metadata": {},
   "outputs": [
    {
     "name": "stdout",
     "output_type": "stream",
     "text": [
      "Training Data Score: 0.7083743842364532\n",
      "Testing Data Score: 0.7083743842364532\n"
     ]
    },
    {
     "name": "stderr",
     "output_type": "stream",
     "text": [
      "C:\\Users\\miss_\\Anaconda3\\lib\\site-packages\\sklearn\\linear_model\\_logistic.py:763: ConvergenceWarning: lbfgs failed to converge (status=1):\n",
      "STOP: TOTAL NO. of ITERATIONS REACHED LIMIT.\n",
      "\n",
      "Increase the number of iterations (max_iter) or scale the data as shown in:\n",
      "    https://scikit-learn.org/stable/modules/preprocessing.html\n",
      "Please also refer to the documentation for alternative solver options:\n",
      "    https://scikit-learn.org/stable/modules/linear_model.html#logistic-regression\n",
      "  n_iter_i = _check_optimize_result(\n"
     ]
    }
   ],
   "source": [
    "lr = LogisticRegression(solver = 'lbfgs', random_state = 1)\n",
    "lr.fit(x_2019_scaled, y_2019)\n",
    "print(f'Training Data Score: {lr.score(x_2019_scaled, y_2019)}')\n",
    "print(f'Testing Data Score: {lr.score(x_2020_scaled, y_2020)}')"
   ]
  },
  {
   "cell_type": "code",
   "execution_count": 59,
   "metadata": {},
   "outputs": [
    {
     "name": "stdout",
     "output_type": "stream",
     "text": [
      "Training Data Score: 1.0\n",
      "Testing Data Score: 1.0\n"
     ]
    }
   ],
   "source": [
    "rf = RandomForestClassifier(random_state = 1)\n",
    "rf.fit(x_2019_scaled, y_2019)\n",
    "print(f'Training Data Score: {rf.score(x_2019_scaled, y_2019)}')\n",
    "print(f'Testing Data Score: {rf.score(x_2020_scaled, y_2020)}')"
   ]
  }
 ],
 "metadata": {
  "kernelspec": {
   "display_name": "Python 3",
   "language": "python",
   "name": "python3"
  },
  "language_info": {
   "codemirror_mode": {
    "name": "ipython",
    "version": 3
   },
   "file_extension": ".py",
   "mimetype": "text/x-python",
   "name": "python",
   "nbconvert_exporter": "python",
   "pygments_lexer": "ipython3",
   "version": "3.8.8"
  }
 },
 "nbformat": 4,
 "nbformat_minor": 4
}
